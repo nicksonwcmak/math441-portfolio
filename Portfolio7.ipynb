{
 "cells": [
  {
   "cell_type": "markdown",
   "id": "431eaf5a-5159-445c-bfc9-4a0ef2c4d078",
   "metadata": {},
   "source": [
    "# Portfolio 7\n",
    "## The Path Following Method\n",
    "\n",
    "We follow the construction followed in Vanderbei (2020) ch.18 and the lecture of March 25 to implement the path following method for linear programming problems."
   ]
  },
  {
   "cell_type": "markdown",
   "id": "8ec1a983-58f1-40a1-82d4-25303c51f287",
   "metadata": {},
   "source": [
    "## Problem Statement\n",
    "\n",
    "The general linear programming problem as follows:\n",
    "\\begin{align*}\n",
    "\\text{maximize } c^Tx\\\\\n",
    "\\text{subject to } Ax \\le b\\\\\n",
    "x \\ge 0\n",
    "\\end{align*}\n",
    "where:\n",
    "* x is a vector of decision variables;\n",
    "* c is a vector of linear cost coefficients\n",
    "* A is a matrix of constraints\n",
    "* b is a vector of constants"
   ]
  },
  {
   "cell_type": "markdown",
   "id": "f22681b3-f9ac-4ab0-805a-329d6065ced5",
   "metadata": {},
   "source": [
    "## Summary of Previous Work\n",
    "\n",
    "In the notebook from March 25, we used the logarithmic barrier problem to approximate the solution to this problem, and then used Newton's method to approximate the solution to the nonlinear barrier problem.\n",
    "After applying the logarithmic barrier function and solving for its optimal points, the problem is redefined as:\n",
    "\\begin{align*}\n",
    "A \\mathbf{x} + \\mathbf{w} &= \\mathbf{b} \\\\\n",
    "A^T \\mathbf{y} - \\mathbf{z} &= \\mathbf{c} \\\\\n",
    "XZ \\mathbf{e} &= \\mu \\mathbf{e} \\\\\n",
    "YW \\mathbf{e} &= \\mu \\mathbf{e}\n",
    "\\end{align*}\n",
    "\n",
    "$$\n",
    "X = \\begin{bmatrix} x_0 & & \\\\ & \\ddots & \\\\ & & x_{n-1} \\end{bmatrix}\n",
    "\\hspace{10mm}\n",
    "W = \\begin{bmatrix} w_0 & & \\\\ & \\ddots & \\\\ & & w_{m-1} \\end{bmatrix}\n",
    "$$\n",
    "$$\n",
    "Y = \\begin{bmatrix} y_0 & & \\\\ & \\ddots & \\\\ & & y_{m-1} \\end{bmatrix}\n",
    "\\hspace{10mm}\n",
    "Z = \\begin{bmatrix} z_0 & & \\\\ & \\ddots & \\\\ & & z_{n-1} \\end{bmatrix}\n",
    "\\hspace{10mm}\n",
    "\\mathbf{e} = \\begin{bmatrix} 1 \\\\ 1 \\\\ \\vdots \\\\ 1 \\end{bmatrix}\n",
    "$$\n",
    "where **x,z** are vectors of length n and **w,y** are vectors of length m.\n",
    "\n",
    "To use Newton's Method, we defined \n",
    "$$\n",
    "F(\\boldsymbol{\\xi}) = F(\\mathbf{x},\\mathbf{w}, \\mathbf{y}, \\mathbf{z})\n",
    "=\n",
    "\\begin{bmatrix}\n",
    "A \\mathbf{x} + \\mathbf{w} - \\mathbf{b} \\\\\n",
    "A^T \\mathbf{y} - \\mathbf{z} - \\mathbf{c}\\\\\n",
    "XZ \\mathbf{e} - \\mu \\mathbf{e} \\\\\n",
    "YW \\mathbf{e} - \\mu \\mathbf{e}\n",
    "\\end{bmatrix}\n",
    "$$\n",
    "We use Newton's Method to approximate the zeros of this function:\n",
    "$$\n",
    "F(\\boldsymbol{\\xi} + \\Delta \\boldsymbol{\\xi}) \\approx F(\\boldsymbol{\\xi}) + F'(\\boldsymbol{\\xi}) \\Delta \\boldsymbol{\\xi}\n",
    "\\Rightarrow\n",
    "F(\\boldsymbol{\\xi}) = - F'(\\boldsymbol{\\xi}) \\Delta \\boldsymbol{\\xi}\n",
    "$$\n",
    "This leads to the matrix equation\n",
    "$$\n",
    "\\begin{bmatrix}\n",
    "A \\mathbf{x} + \\mathbf{w} - \\mathbf{b} \\\\\n",
    "A^T \\mathbf{y} - \\mathbf{z} - \\mathbf{c}\\\\\n",
    "XZ \\mathbf{e} - \\mu \\mathbf{e} \\\\\n",
    "YW \\mathbf{e} - \\mu \\mathbf{e}\n",
    "\\end{bmatrix}\n",
    "=\n",
    "-\n",
    "\\begin{bmatrix}\n",
    "A & I & 0 & 0 \\\\\n",
    "0 & 0 & A^T & -I \\\\\n",
    "Z & 0 & 0 & X \\\\\n",
    "0 & Y & W & 0\n",
    "\\end{bmatrix}\n",
    "\\begin{bmatrix}\n",
    "\\Delta \\mathbf{x} \\\\ \\Delta \\mathbf{w} \\\\ \\Delta \\mathbf{y} \\\\ \\Delta \\mathbf{z}\n",
    "\\end{bmatrix}\n",
    "$$"
   ]
  },
  {
   "cell_type": "markdown",
   "id": "e476c774-a249-4c56-b178-02c11247b821",
   "metadata": {},
   "source": [
    "## Choosing Parameters\n",
    "\n",
    "We continue here from the end of the March 25 notebook. Below is a paraphrase of Vanderbei sections 18.3 and 18.4.\n",
    "\n",
    "### Barrier Parameter\n",
    "At each step, we update the value for $\\mu$.\n",
    "We must choose a value that sets the sequence onto the path towards the optimal point.\n",
    "However, we are likely to be at a point $(x,w,y,z)$ that is not on the optimal path.\n",
    "Since we have the equations $XZe = \\mu e$ and $YWe = \\mu e$, computing $z_jx_j$ for fixed j, or $w_iy_i$ for fixed i, allows us to estimate $\\mu$. To get a better estimate, we take the average of all these values, $\\frac{z^Tx + y^Tw}{n+m}$.\n",
    "In order to move towards the optimal solution, we want $\\mu$ to decay towards 0 as we iterate, so we want some fraction of this value.\n",
    "Thus, we set an additional parameter $\\delta \\in (0,1)$ and take \n",
    "$$\n",
    "\\mu = \\delta \\frac{z^Tx + y^Tw}{n+m}\n",
    "$$\n",
    "Vanderbei suggests $\\delta = 1/10$ as a typical value.\n",
    "\n",
    "### Step Length Parameter\n",
    "\n",
    "We must choose a step length parameter $\\theta$ to determine how far we step for each iteration of Newton's method.\n",
    "To prevent overshooting the optimal point and stepping outside the feasible region, we must guarantee that for every single step, we have $x_j + \\theta \\Delta x_j > 0$ for all j, since x is non-negative.\n",
    "Rearranging, we get $\\frac{1}{\\theta} > - \\frac{\\Delta x_j}{x_j}$.  \n",
    "This also applies for w, y and z as well, so we need\n",
    "$$\n",
    "\\frac{1}{\\theta} = \\max_{ij} \\left( -\\frac{\\Delta x_j}{x_j}, - \\frac{\\Delta w_i}{w_i}, - \\frac{\\Delta y_i}{y_i}, - \\frac{\\Delta z_j}{z_j} \\right)  = \\max \\left( - \\frac{\\Delta \\boldsymbol{\\xi}}{\\boldsymbol{\\xi}} \\right)\n",
    "$$\n",
    "This alone isn't enough to guarantee the strict inequality for all values.\n",
    "Hence we introduce a new value $r \\in (0,1)$, with $r$ being close to but slightly less than 1, and set\n",
    "$$\n",
    "\\theta = \\frac{r}{ \\max \\left( - \\frac{\\Delta \\boldsymbol{\\xi}}{\\boldsymbol{\\xi}} \\right) }\n",
    "$$\n",
    "We can now begin implementing the algorithm."
   ]
  },
  {
   "cell_type": "markdown",
   "id": "142494e9-2aae-4742-a102-c7c70b89205e",
   "metadata": {},
   "source": [
    "## Stopping Criteria\n",
    "\n",
    "For a practical implementation, we must determine when to stop iterating.  \n",
    "Stopping conditions are described in Vanderbei section 18.5.3 (pp. 318).\n",
    "Define \n",
    "$$\n",
    "\\rho = b - Ax - w \\quad \\sigma = c - A^Ty - z \\quad \\gamma = z^Tx + y^Tw  \n",
    "$$\n",
    "$\\rho$ is the primal infeasibility vector, measuring how far the solution is from feasibility. It is 0 when the solution is primal feasible.\n",
    "$\\sigma$ is the dual infeasibility vector, which is the same but for the dual problem. \n",
    "$\\gamma$ is a measure of complementarity. When $\\gamma$ is small, the gap between the primal and dual objective values is small, meaning the problem is close to optimal.\n",
    "\n",
    "Let $M > 0$ be some large, finite tolerance value.\n",
    "If at any step $|x|_\\infty > M$ (the maximum entry of x is larger than M), the algorithm stops and we conclude that the primal problem is unbounded. Similarly, if $|y|_\\infty > M$, the algorithm stops and we conclude that the dual problem is unbounded.  \n",
    "Let $\\epsilon > 0$ be some small, near-zero optimality tolerance.\n",
    "If we simultaneously have $|\\rho|_1 < \\epsilon$, $|\\sigma|_1 < \\epsilon$, and $\\gamma < \\epsilon$ (using the 1-norm, which is the sum of the absolute values of all entries), we are close to optimal. We stop the algorithm and report our near-optimal solution."
   ]
  },
  {
   "cell_type": "markdown",
   "id": "06d1c966-a622-4e6c-a5a0-d26b3e125b0b",
   "metadata": {},
   "source": [
    "## Algorithm Implementation\n",
    "\n",
    "We implement the algorithm found on Vanderbei p.314.  \n",
    "Much of the code below is referenced from the lecture of March 25"
   ]
  },
  {
   "cell_type": "code",
   "execution_count": 19,
   "id": "c7da8384-80dd-4ecb-bdd7-4805de32555e",
   "metadata": {},
   "outputs": [],
   "source": [
    "import numpy as np\n",
    "import scipy.linalg as la\n",
    "from scipy.optimize import linprog\n",
    "import matplotlib.pyplot as plt"
   ]
  },
  {
   "cell_type": "code",
   "execution_count": 49,
   "id": "1d90fdba-6be4-47a6-b63c-6bfc9f48b1f3",
   "metadata": {},
   "outputs": [],
   "source": [
    "# returns 1 if we at optimality, 2 if primal infeasible, 3 if dual infeasible, 0 otherwise\n",
    "def check_optimality(x, y, rho, sigma, gamma, epsilon, M):\n",
    "    if np.max(np.abs(x)) > M:\n",
    "        print(\"Maximum tolerance exceeded. Primal unbounded.\")\n",
    "        return 2\n",
    "    elif np.max(np.abs(y)) > M: \n",
    "        print(\"Maximum tolerance exceeded. Dual unbounded.\")\n",
    "        return 3\n",
    "    elif np.sum(np.abs(rho)) < epsilon and np.sum(np.abs(sigma)) < epsilon and gamma < epsilon:\n",
    "        print(\"Optimal solution found.\")\n",
    "        return 1\n",
    "    else:\n",
    "        return 0\n",
    "\n",
    "def form_dF(A, x, w, y, z):\n",
    "    m,n = A.shape\n",
    "    X = np.diag(x)\n",
    "    W = np.diag(w)\n",
    "    Y = np.diag(y)\n",
    "    Z = np.diag(z)\n",
    "    return np.block([[A,np.eye(m),np.zeros((m,m)),np.zeros((m,n))],\n",
    "                     [np.zeros((n,n)),np.zeros((n,m)),A.T,-np.eye(n)],\n",
    "                     [Z,np.zeros((n,m)),np.zeros((n,m)),X],\n",
    "                     [np.zeros((m,n)),Y,W,np.zeros((m,n))]])\n",
    "\n",
    "def form_B(A, b, c, mu, x, w, y, z):\n",
    "    n = x.size\n",
    "    m = y.size\n",
    "    X = np.diag(x)\n",
    "    W = np.diag(w)\n",
    "    Y = np.diag(y)\n",
    "    Z = np.diag(z)\n",
    "    return np.hstack([b - A@x - w,\n",
    "                    c - A.T@y + z,\n",
    "                    mu*np.ones(n) - X@Z@np.ones(n),\n",
    "                    mu*np.ones(m) - Y@W@np.ones(m)])"
   ]
  },
  {
   "cell_type": "code",
   "execution_count": 47,
   "id": "be4ae5bb-127e-49ac-baa6-e7934747e471",
   "metadata": {},
   "outputs": [],
   "source": [
    "# x0 = initial guess for x\n",
    "def path_following_method(xi0, A, b, c, delta=0.1, r=0.9, epsilon=0.1, M=100, maxiter=100):\n",
    "    # initialization\n",
    "    m,n = A.shape\n",
    "    xi = xi0\n",
    "    #rho = b - A@x - w\n",
    "    #sigma = c - A.T@y - z\n",
    "    #gamma = z.T@x + y.T@w\n",
    "    xs = np.array(xi0[0:n]).reshape((1,n))\n",
    "    for _ in range(maxiter):\n",
    "        x = xi[0:n]\n",
    "        w = xi[n:n+m]\n",
    "        y = xi[n+m:n+2*m]\n",
    "        z = xi[n+2*m:]\n",
    "        \n",
    "        rho = b - A@x - w\n",
    "        sigma = c - A.T@y + z\n",
    "        gamma = z.T@x + y.T@w\n",
    "        mu = delta*gamma/(n+m)\n",
    "        \n",
    "        dF = form_dF(A, x, w, y, z)\n",
    "        B = form_B(A, b, c, mu, x, w, y, z)\n",
    "        xi_delta = la.solve(-dF, B)\n",
    "        \n",
    "        theta = r / np.max(-xi_delta / xi)\n",
    "        xi += theta * xi_delta\n",
    "        xs = np.append(xs, np.reshape(xi[0:n],(1,n)), axis=0)\n",
    "        if (check_optimality(xi0[0:n], xi0[n:n+m], rho,sigma,gamma,epsilon,M) != 0):\n",
    "            return xs\n",
    "    print(\"Maximum number of iterations reached.\")\n",
    "    return xs"
   ]
  },
  {
   "cell_type": "markdown",
   "id": "d84cfec2-59b9-40ad-899d-fd2a3d2c7ff7",
   "metadata": {},
   "source": [
    "We use the example from the March 25 lecture to demonstrate."
   ]
  },
  {
   "cell_type": "code",
   "execution_count": 4,
   "id": "77684a5c-8579-404b-ab62-7bc6a7466678",
   "metadata": {},
   "outputs": [],
   "source": [
    "c = [2, 1]\n",
    "A = np.array([[-1,1],[1,1],[1,0]])\n",
    "b = [1,3,2]"
   ]
  },
  {
   "cell_type": "code",
   "execution_count": 51,
   "id": "8eff8a26-6495-4ad9-b26a-28b0968ab2ae",
   "metadata": {},
   "outputs": [
    {
     "name": "stdout",
     "output_type": "stream",
     "text": [
      "[1.5        0.85       1.65       0.65       0.5        0.5\n",
      " 0.9        0.9        0.66666667 1.17647059]\n",
      "Maximum number of iterations reached.\n",
      "[2.        0.9998498]\n"
     ]
    }
   ],
   "source": [
    "x0 = np.array([1.5,0.85])\n",
    "w0 = b - A@x0\n",
    "y0 = np.array([0.5,0.9,0.9])\n",
    "z0 = 1/x0\n",
    "xi0 = np.concatenate((x0,w0,y0,z0))\n",
    "print(xi0)\n",
    "\n",
    "result = path_following_method(xi0, A, b, -np.array(c), )\n",
    "print(result[-1,:])"
   ]
  },
  {
   "cell_type": "markdown",
   "id": "8d9783d1-72d3-425b-a1a9-b28680914127",
   "metadata": {},
   "source": [
    "We compare with the optimal solution, as calculated by `scipy.optimize.linprog`."
   ]
  },
  {
   "cell_type": "code",
   "execution_count": 22,
   "id": "748a41ad-76b5-4104-a810-53ce80bdb14a",
   "metadata": {},
   "outputs": [
    {
     "data": {
      "text/plain": [
       "        message: Optimization terminated successfully. (HiGHS Status 7: Optimal)\n",
       "        success: True\n",
       "         status: 0\n",
       "            fun: -5.0\n",
       "              x: [ 2.000e+00  1.000e+00]\n",
       "            nit: 1\n",
       "          lower:  residual: [ 2.000e+00  1.000e+00]\n",
       "                 marginals: [ 0.000e+00  0.000e+00]\n",
       "          upper:  residual: [       inf        inf]\n",
       "                 marginals: [ 0.000e+00  0.000e+00]\n",
       "          eqlin:  residual: []\n",
       "                 marginals: []\n",
       "        ineqlin:  residual: [ 2.000e+00  0.000e+00  0.000e+00]\n",
       "                 marginals: [-0.000e+00 -1.000e+00 -1.000e+00]\n",
       " mip_node_count: 0\n",
       " mip_dual_bound: 0.0\n",
       "        mip_gap: 0.0"
      ]
     },
     "execution_count": 22,
     "metadata": {},
     "output_type": "execute_result"
    }
   ],
   "source": [
    "linprog(-np.array(c),A_ub=A,b_ub=b)"
   ]
  },
  {
   "cell_type": "markdown",
   "id": "f7a029dc-210c-4f2d-b4a1-a961c9ef4bb7",
   "metadata": {},
   "source": [
    "While it took a large number of iterations, the algorithm arrived fairly close to the optimal solution.\n",
    "\n",
    "We plot the sequence of points."
   ]
  },
  {
   "cell_type": "code",
   "execution_count": 64,
   "id": "b116764d-69d7-4737-993b-8e7983adf9fe",
   "metadata": {},
   "outputs": [
    {
     "data": {
      "image/png": "[encoded data removed]",
      "text/plain": [
       "<Figure size 640x480 with 1 Axes>"
      ]
     },
     "metadata": {},
     "output_type": "display_data"
    }
   ],
   "source": [
    "x0 = np.linspace(0,2,500)\n",
    "x1 = np.linspace(0,2,500)\n",
    "\n",
    "# plot boundaries of the feasible region\n",
    "plt.plot(x0, 3 - x0, color='blue')\n",
    "plt.plot(x0, x0+1, color='blue')\n",
    "plt.plot(np.zeros(500),x1/2, color='blue')\n",
    "plt.plot(2*np.ones(500),x1/2, color='blue')\n",
    "\n",
    "plt.plot(result[:,0],result[:,1], color='red')\n",
    "plt.xlim(0,2)\n",
    "plt.ylim(0,2)\n",
    "plt.show()"
   ]
  },
  {
   "cell_type": "markdown",
   "id": "56faa978-70f5-4d4a-8c9b-982905c2571f",
   "metadata": {},
   "source": [
    "## References\n",
    "\n",
    "Vanderbei, Robert J. *Linear Programming: Foundations and Extensions*, 5th ed. Springer, 2020.\n",
    "\n",
    "Walls, Patrick. \"Interior Point Methods\". Math 441. Mathematical Modelling: Discrete Optimization Problems. 25 March 2024, University of British Columbia. Lecture.  "
   ]
  }
 ],
 "metadata": {
  "kernelspec": {
   "display_name": "Python 3 (ipykernel)",
   "language": "python",
   "name": "python3"
  },
  "language_info": {
   "codemirror_mode": {
    "name": "ipython",
    "version": 3
   },
   "file_extension": ".py",
   "mimetype": "text/x-python",
   "name": "python",
   "nbconvert_exporter": "python",
   "pygments_lexer": "ipython3",
   "version": "3.11.6"
  }
 },
 "nbformat": 4,
 "nbformat_minor": 5
}
