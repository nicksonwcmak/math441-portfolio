{
 "cells": [
  {
   "cell_type": "markdown",
   "id": "69ebbb5c-a2c3-4672-8b7d-5859515bca1e",
   "metadata": {},
   "source": [
    "# The Minimum Set Cover Problem"
   ]
  },
  {
   "cell_type": "markdown",
   "id": "bd34c672-062c-432f-b26a-11ad0372c8dd",
   "metadata": {},
   "source": [
    "## Introduction and Problem Statement\n",
    "\n",
    "The set cover problem, also referred to as the minimum set cover problem, concerns a finite \"universe\" set $U = \\{u_1,\\dots u_m\\}$ and some subsets $S_1 \\dots S_n \\subset U$ such that $\\bigcup_{i=1}^n S_i = U$.  \n",
    "Each set may have an associated cost $c_1 \\dots c_n$.\n",
    "The task is to choose the minimum cost set cover: a collection of $S_i$ such that their union is $U$ and their total cost is minimal.  \n",
    "(This problem may be expressed in various ways, e.g. compare Chvatal (1979) and Zhou et al. (2014)).  \n",
    "This problem is known to be NP-complete."
   ]
  },
  {
   "cell_type": "markdown",
   "id": "66adcb27-a424-4705-8eb5-e7940834077f",
   "metadata": {},
   "source": [
    "Wireless network coverage is a common application for the minimum set cover problem and its many variants.  \n",
    "Many other applications exist. For example, Algador and Cerdeira (2020) apply it to protected conservation areas, with the objective being to protect habitat for as many species as possible at the minimum cost.  \n",
    "Many algorithms and computational methods exist. For example, Zhou et al. (2014) apply DNA computing to solve the problem.  \n",
    "\n",
    "Here, we focus only on the most basic formulation of the problem, and compare solutions by integer programming, a greedy algorithm, and brute force."
   ]
  },
  {
   "cell_type": "markdown",
   "id": "a922668e-c1c3-4cf2-8f1c-c40defef82fe",
   "metadata": {},
   "source": [
    "## Expressing as an Integer Programming Problem\n",
    "\n",
    "It is relatively straightforward to phrase this as a integer programming problem:\n",
    "* We set up the problem with $m$ elements of $U$ and $n$ different sets.\n",
    "* The decision variables are $x_i$ such that $x_i = 1$ if set $S_i$ is part of the set cover, and 0 otherwise.\n",
    "* The constraint matrix $C$ is a $n \\times m$ matrix defined by $C_{ij} = 1$ if the element $u_j \\in U$ is included in set $S_i$, and 0 otherwise.\n",
    "* The constraints are that each element of $U$ must be included in the set cover:\n",
    "$$\n",
    "\\sum_i C_{ij}x_i \\ge 1, \\text{for each } j = 0, \\dots m-1\n",
    "$$\n",
    "* The cost vector has elements $c_1 \\dots c_n$, with $c_i$ being the cost for set $S_i$.\n",
    "* The objective function is $\\min \\sum_{i=1}^n c_ix_i$."
   ]
  },
  {
   "cell_type": "markdown",
   "id": "feddf4f6-d463-45c0-abd8-edfef842cb48",
   "metadata": {},
   "source": [
    "## Example\n",
    "\n",
    "We generate some artificial data to demonstrate various methods of solving.  \n",
    "For simplicity, we set all the costs to be 1."
   ]
  },
  {
   "cell_type": "code",
   "execution_count": 104,
   "id": "d3b778f5-ed0b-4f53-9782-3ac90f89b47c",
   "metadata": {},
   "outputs": [],
   "source": [
    "import numpy as np\n",
    "import cvxpy as cp\n",
    "import matplotlib.pyplot as plt\n",
    "import copy\n",
    "from itertools import combinations"
   ]
  },
  {
   "cell_type": "code",
   "execution_count": 71,
   "id": "7b7af41c-c424-4549-b3b4-2ea6a12591f6",
   "metadata": {},
   "outputs": [
    {
     "name": "stdout",
     "output_type": "stream",
     "text": [
      "[12.  8. 12. 10. 12. 10. 12. 12. 14. 11. 10. 14. 12. 10. 12. 11. 10. 14.\n",
      " 13. 14.  7. 11. 10. 15. 11. 12. 13. 13. 12. 10. 14. 11. 13. 10. 13. 12.\n",
      " 11. 14. 13. 12. 14. 11. 10. 11. 12. 13. 13. 11. 13. 11. 11. 14. 13. 10.\n",
      " 12. 12. 11.  9.  7. 14. 14.  9.  9. 14.  9. 13. 14. 13. 14.  7. 11. 13.\n",
      " 13. 12. 11. 11. 12. 13. 12. 10. 14. 12. 14. 15. 14. 10.  9. 10. 12. 12.\n",
      " 11. 11. 13. 11. 11. 11. 15. 12. 10. 14.]\n"
     ]
    }
   ],
   "source": [
    "m = 100 # number of elements\n",
    "n = 20 # number of sets\n",
    "\n",
    "# generate random dataset\n",
    "# this code referenced from lecture on Feb 14\n",
    "C = np.zeros((n,m))\n",
    "for i in range(n):\n",
    "    # using seeded values for replicability\n",
    "    generator = np.random.default_rng(seed=i*2)\n",
    "    setsize = generator.integers(1,m) # sets of size at least 1, at most m-1\n",
    "    js = generator.choice(range(m),size=setsize,replace=False) # choose set elements\n",
    "    C[i,js] = 1.\n",
    "\n",
    "# ensure every element is in at least one set\n",
    "for j in range(m):\n",
    "    if np.sum(C[:,j]) < 1:\n",
    "        randidx = np.random.randint(n)\n",
    "        C[randidx,j] = 1.\n",
    "\n",
    "print(np.sum(C,axis=0)) # number of sets each element is in"
   ]
  },
  {
   "cell_type": "code",
   "execution_count": 72,
   "id": "1d7adbc4-6cab-47ed-b6e5-b8d377232b56",
   "metadata": {},
   "outputs": [
    {
     "data": {
      "image/png": "[encoded data removed]",
      "text/plain": [
       "<Figure size 640x480 with 1 Axes>"
      ]
     },
     "metadata": {},
     "output_type": "display_data"
    }
   ],
   "source": [
    "plt.imshow(C,cmap='binary'), plt.title(\"Elements vs. Sets\")\n",
    "plt.show()"
   ]
  },
  {
   "cell_type": "code",
   "execution_count": 144,
   "id": "5d6696f0-a012-4ad8-97e9-40b8259f98a7",
   "metadata": {},
   "outputs": [],
   "source": [
    "# set up the optimization problem\n",
    "\n",
    "x = cp.Variable(shape=n,integer=True)\n",
    "\n",
    "cost = np.ones(n) # for simplicity, we set all costs to be 1\n",
    "\n",
    "# define objective\n",
    "objective = cp.Minimize(cp.sum(cp.multiply(cost[i],x[i])))\n",
    "\n",
    "# define constraint\n",
    "constraint1 = []\n",
    "for j in range(m):\n",
    "    constraint1 += [cp.sum(cp.multiply(C[:,j],x)) >= 1]\n",
    "constraint2 = [x[i] >= 0 for i in range(n)]\n",
    "\n",
    "constraints = constraint1 + constraint2\n",
    "problem = cp.Problem(objective,constraints)"
   ]
  },
  {
   "cell_type": "code",
   "execution_count": 145,
   "id": "5782d75a-4d91-48b5-acfe-254894591636",
   "metadata": {},
   "outputs": [
    {
     "data": {
      "text/plain": [
       "0.0"
      ]
     },
     "execution_count": 145,
     "metadata": {},
     "output_type": "execute_result"
    }
   ],
   "source": [
    "problem.solve()"
   ]
  },
  {
   "cell_type": "code",
   "execution_count": 146,
   "id": "02086cf7-951d-4993-9805-5ab944f25c26",
   "metadata": {},
   "outputs": [
    {
     "data": {
      "text/plain": [
       "'optimal'"
      ]
     },
     "execution_count": 146,
     "metadata": {},
     "output_type": "execute_result"
    }
   ],
   "source": [
    "problem.status"
   ]
  },
  {
   "cell_type": "code",
   "execution_count": 147,
   "id": "71815067-6afa-4114-a0c7-77557d662427",
   "metadata": {},
   "outputs": [
    {
     "data": {
      "text/plain": [
       "array([0., 0., 0., 0., 0., 0., 1., 0., 0., 1., 0., 0., 0., 0., 1., 0., 0.,\n",
       "       0., 0., 0.])"
      ]
     },
     "execution_count": 147,
     "metadata": {},
     "output_type": "execute_result"
    }
   ],
   "source": [
    "x.value"
   ]
  },
  {
   "cell_type": "markdown",
   "id": "0cf9e20d-dcfc-47f5-bee9-b28727c3fdf4",
   "metadata": {},
   "source": [
    "An optimal solution is found, giving a cover consisting of a couple sets."
   ]
  },
  {
   "cell_type": "code",
   "execution_count": 148,
   "id": "c4794214-dc98-4b70-be39-0e9c765d6a96",
   "metadata": {},
   "outputs": [
    {
     "data": {
      "text/plain": [
       "array([2., 2., 3., 1., 2., 1., 3., 1., 3., 1., 2., 3., 1., 2., 3., 3., 2.,\n",
       "       2., 3., 2., 1., 2., 2., 3., 1., 2., 3., 3., 2., 3., 3., 3., 2., 2.,\n",
       "       3., 3., 2., 1., 2., 2., 2., 3., 2., 2., 3., 2., 3., 1., 3., 2., 2.,\n",
       "       2., 2., 2., 2., 1., 1., 1., 1., 2., 2., 1., 2., 2., 2., 1., 3., 2.,\n",
       "       3., 1., 2., 2., 3., 2., 2., 3., 3., 3., 2., 3., 3., 3., 3., 3., 2.,\n",
       "       2., 2., 2., 2., 3., 2., 3., 1., 2., 2., 2., 3., 2., 2., 2.])"
      ]
     },
     "execution_count": 148,
     "metadata": {},
     "output_type": "execute_result"
    }
   ],
   "source": [
    "C.T@x.value"
   ]
  },
  {
   "cell_type": "markdown",
   "id": "1f90e694-f62a-48e1-9805-46150bbfab92",
   "metadata": {},
   "source": [
    "$C^Tx$ gives the number of sets in the cover that contain each element.  \n",
    "We can verify that every element is represented at least once in the cover."
   ]
  },
  {
   "cell_type": "markdown",
   "id": "0aa7fb1d-c1b1-4ea1-91ea-b95afbe0d7d4",
   "metadata": {},
   "source": [
    "## Approximation: Greedy Algorithm\n",
    "\n",
    "Chvatal (1979) describes a natural greedy algorithm, reproduced below (using the notation defined above): \n",
    "1. Start with $J^* = \\emptyset$.\n",
    "2. If all subsets are empty, stop: we have found a cover.\n",
    "3. Otherwise, find some $k$ such that the ratio $|S_k| / c_k$ is minimal, where $c_k$ is the cost of $S_k$.\n",
    "4. Add $k$ to $J^*$ and replace every subset $S_i$ with $S_i - S_k$. Return to step 2.\n",
    "\n",
    "Chvatal claims that this algorithm returns a result with cost at most $\\sum_{j=1}^d \\frac{1}{j}$ times the optimal cost, where $d = \\max_i |S_i|$ is the size of the largest subset.   \n",
    "\n",
    "We attempt to implement Chvatal's algorithm below."
   ]
  },
  {
   "cell_type": "code",
   "execution_count": 149,
   "id": "7d601753-29eb-42fe-969a-63feaebed366",
   "metadata": {},
   "outputs": [],
   "source": [
    "def checkallzero(A): # return true if all elements of matrix A are zero\n",
    "    return np.all(A == np.zeros(A.shape))\n",
    "\n",
    "def greedysetcover(C,cost):\n",
    "    A = copy.deepcopy(C) # avoid directly modifying the actual set, for replicability\n",
    "    n,m = A.shape\n",
    "    cover = np.zeros(n) # selected subsets\n",
    "    # run the greedy algorithm\n",
    "    for _ in range(n): #can't loop more than n times\n",
    "        if (checkallzero(A)): \n",
    "            break\n",
    "        sizes = np.sum(A,axis=1) # vector of sizes of every element\n",
    "        size_to_cost = sizes / cost\n",
    "        k = np.argmax(size_to_cost)\n",
    "        cover[k] = 1\n",
    "        # for every element in set k, set that column to 0\n",
    "        for j in range(m):\n",
    "            if A[k,j] == 1:\n",
    "                A[:,j] = np.zeros(n)\n",
    "    return cover"
   ]
  },
  {
   "cell_type": "code",
   "execution_count": 136,
   "id": "66fe42a6-235b-4bc3-85c0-e1d28ac059f5",
   "metadata": {},
   "outputs": [
    {
     "name": "stdout",
     "output_type": "stream",
     "text": [
      "217 µs ± 18.4 µs per loop (mean ± std. dev. of 7 runs, 1,000 loops each)\n"
     ]
    }
   ],
   "source": [
    "%%timeit\n",
    "greedysetcover(C,cost)"
   ]
  },
  {
   "cell_type": "markdown",
   "id": "12457769-8796-4383-93be-30a78eaf48a8",
   "metadata": {},
   "source": [
    "In this case, the greedy algorithm was able to find the optimal solution."
   ]
  },
  {
   "cell_type": "markdown",
   "id": "1bbc6fd1-f25b-4001-aca9-264827ee9e81",
   "metadata": {},
   "source": [
    "### Comparison with Brute Force  \n",
    "\n",
    "We can compare the runtime of the greedy algorithm to that of the brute force method of checking every possible combination."
   ]
  },
  {
   "cell_type": "code",
   "execution_count": 127,
   "id": "fa04c909-22fa-4bf5-9eb1-0fc33b513c13",
   "metadata": {},
   "outputs": [],
   "source": [
    "def checksetcoverage(A, comb):\n",
    "    coverelements = A[comb,:]\n",
    "    return np.all(np.sum(coverelements,axis=0) >= np.ones(A.shape[1]))\n",
    "\n",
    "# calculate the cost of some combination of rows\n",
    "def combcost(A,comb,cost):\n",
    "    selection = np.zeros(A.shape[0])\n",
    "    for i in comb:\n",
    "        selection[i] = 1\n",
    "    return cost.T @ selection"
   ]
  },
  {
   "cell_type": "code",
   "execution_count": 140,
   "id": "1a033df7-469c-4c86-b39e-b535574b1e1f",
   "metadata": {},
   "outputs": [],
   "source": [
    "def bruteforcesetcover(C,cost):\n",
    "    n,m = C.shape\n",
    "    mincost = np.inf\n",
    "    mincomb = (-1,-1) # placeholder value\n",
    "    \n",
    "    for k in range(2,n):\n",
    "        for comb in combinations(range(n),k):\n",
    "            # check if combination covers all data points\n",
    "            if checksetcoverage(C,comb):\n",
    "                combinationcost = combcost(C,comb,cost)\n",
    "                if combinationcost < mincost:\n",
    "                    mincost = combinationcost\n",
    "                    mincomb = comb\n",
    "    if mincost == np.inf: # no combination covered all elements\n",
    "        return np.ones(n) # all elements guaranteed to cover all elements\n",
    "    else:\n",
    "        return mincomb"
   ]
  },
  {
   "cell_type": "code",
   "execution_count": 142,
   "id": "12ba6554-c036-472a-8d80-5e426393c0ff",
   "metadata": {},
   "outputs": [
    {
     "name": "stdout",
     "output_type": "stream",
     "text": [
      "30 s ± 557 ms per loop (mean ± std. dev. of 7 runs, 1 loop each)\n"
     ]
    }
   ],
   "source": [
    "%%timeit\n",
    "bruteforcesetcover(C,cost)"
   ]
  },
  {
   "cell_type": "markdown",
   "id": "f52059a9-e5e2-4489-b4d1-42835877fc76",
   "metadata": {},
   "source": [
    "Clearly, the greedy algorithm is much faster than the brute force method.  \n",
    "In the worst case, the greedy algorithm needs $n$ iterations, while the brute force method requires checking $2^n$ combinations - as $n$ becomes large, the greedy algorithm becomes far faster."
   ]
  },
  {
   "cell_type": "markdown",
   "id": "5ba73377-9d7d-461b-81ee-836eeecfdf4b",
   "metadata": {},
   "source": [
    "## References\n",
    "\n",
    "Alagador, Diogo, and Jorge Orestes Cerdeira. \"Revisiting the minimum set cover, the maximal coverage problems and a maximum benefit area selection problem to make climate-change-concerned conservation plans effective\". *Methods in Ecology and Evolution*, vol. 11, no. 10, October 2020, pp. 1325-1337. https://doi.org/10.1111/2041-210X.13455.\n",
    "\n",
    "Chvátal, Václav. \"A Greedy Heuristic for the Set-Covering Problem\". *Mathematics of Operational Research*, vol. 4, no. 3, August 1979, pp. 233-235. *JSTOR*, https://www.jstor.org/stable/3689577.  \n",
    "\n",
    "\"Set Cover Problem\". *Wikipedia*, Wikimedia Foundation, https://en.wikipedia.org/wiki/Set_cover_problem. Accessed 8 Mar 2024.\n",
    "\n",
    "Zhou, Xu et al. \"Molecular solutions for minimum and exact cover problems in the tile assembly model\". *The Journal of Supercomputing*, vol. 69, August 2014, pp. 976–1005. https://doi.org/10.1007/s11227-014-1222-x."
   ]
  }
 ],
 "metadata": {
  "kernelspec": {
   "display_name": "Python 3 (ipykernel)",
   "language": "python",
   "name": "python3"
  },
  "language_info": {
   "codemirror_mode": {
    "name": "ipython",
    "version": 3
   },
   "file_extension": ".py",
   "mimetype": "text/x-python",
   "name": "python",
   "nbconvert_exporter": "python",
   "pygments_lexer": "ipython3",
   "version": "3.11.6"
  }
 },
 "nbformat": 4,
 "nbformat_minor": 5
}
