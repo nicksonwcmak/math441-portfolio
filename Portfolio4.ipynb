{
 "cells": [
  {
   "cell_type": "markdown",
   "id": "0aa119b7-fc0e-4b86-bc2e-b5604447392b",
   "metadata": {},
   "source": [
    "# Portfolio 4"
   ]
  },
  {
   "cell_type": "markdown",
   "id": "d82f3919-956e-4405-bd90-730de96f0026",
   "metadata": {},
   "source": [
    "## The Scheduling Problem as a Graph Colouring Problem\n",
    "\n",
    "It is possible to solve a scheduling problem as a graph colouring problem. \n",
    "We generate artificial data for a scheduling problem, express it in terms of graph colouring, and use a greedy algorithm to approximate a solution."
   ]
  },
  {
   "cell_type": "markdown",
   "id": "ee82c511-19d8-444e-8da2-8524bb6ffe4e",
   "metadata": {},
   "source": [
    "## Problem Statement\n",
    "\n",
    "We consider the problem of exam scheduling, which was examined in lecture on Feb 14.  \n",
    "Final exams are being scheduled into different timeslots. Each course must have an exam.\n",
    "However, each student can only write one exam per timeslot.\n",
    "The task is to find a schedule that minimizes the number of timeslots needed to schedule all exams.  \n",
    "Unlike the formulation in lecture, we do not consider the problem of students writing exams back-to-back."
   ]
  },
  {
   "cell_type": "markdown",
   "id": "a6c37779-8c57-472f-acdf-73d48011cfab",
   "metadata": {},
   "source": [
    "## Formulation as a Graph Colouring Problem\n",
    "\n",
    "**Parameters:**\n",
    "* There are $m$ courses that need to have exams scheduled.\n",
    "* There are $n$ students taking these courses.\n",
    "* There are $s$ available time slots for exams.\n",
    "* We have a matrix $C = [c_{ij}]$ where $c_{ij} = 1$ if student $i$ is registered in course $j$.\n",
    "\n",
    "We use the matrix $C$ to construct an adjacency matrix $A$ corresponding to our graph.  \n",
    "Each node in the graph corresponds to the corresponding row and column in the adjacency matrix.  \n",
    "$A = [a_{j,j'}]$ where $a_{j,j'} = 1$ if there is some student taking both course $j$ and course $j'$, and 0 otherwise.\n",
    "\n",
    "**Decision Variables**:\n",
    "Let $x_{j} = k$, where $k \\in \\{0, \\dots s-1\\}$ is the timeslot that course $j$ is scheduled in.\n",
    "In the graph coloring formulation, this corresponds to the colour of node $j$.\n",
    "We are not using integer programming here, so it is not necessary to restrict the variables to be 0 or 1, and this formulation allows us to more directly see what each element corresponds to in the graph.\n",
    "However, we will need to modify this to compare our result with an exact solution computed by integer programming.\n",
    "\n",
    "**Objective**\n",
    "Minimize the number of timeslots (colours) used: $\\min \\max_j x_j + 1$  \n",
    "We use colours sequentially and represent them as numbers starting from 0, so the number of colours used is exactly 1 more than the maximum \"colour\".\n",
    "\n",
    "**Constraints:**\n",
    "* Each course must have one exam scheduled.\n",
    "In the graph, this is represented by the fact that every node must have a unique colour.\n",
    "* Each student can only write at most one exam per timeslot.  \n",
    "In the graph, this is represented by the fact that two nodes share an edge if at least one student is registered in both, and nodes that share an edge cannot have the same colour."
   ]
  },
  {
   "cell_type": "markdown",
   "id": "c495aeff-ec21-40fd-a81a-06a96b7d0f17",
   "metadata": {},
   "source": [
    "## Implementing the Greedy Algorithm\n",
    "\n",
    "We attempt to use a greedy algorithm to implement the graph colouring.\n",
    "The `networkx` package provides a `greedy_color` function that does this.  \n",
    "The Wikipedia article on \"Greedy coloring\" provides some sample Python code, but it does not work for our particular adjacency matrix formulation.  \n",
    "To better improve our understanding, we will try to implement the algorithm ourselves.  "
   ]
  },
  {
   "cell_type": "code",
   "execution_count": 20,
   "id": "30d212a8-2ad1-43a0-a8eb-2df51f393387",
   "metadata": {},
   "outputs": [],
   "source": [
    "import numpy as np\n",
    "import matplotlib.pyplot as plt\n",
    "import cvxpy as cp"
   ]
  },
  {
   "cell_type": "markdown",
   "id": "1c699192-24fa-45ff-a1e9-bc6a440df4c5",
   "metadata": {},
   "source": [
    "Specify parameter values:"
   ]
  },
  {
   "cell_type": "code",
   "execution_count": 3,
   "id": "2ef8624f-9d22-45d8-8efd-dbd41fd83b6f",
   "metadata": {},
   "outputs": [],
   "source": [
    "s = 20\n",
    "n = 100\n",
    "m = 20"
   ]
  },
  {
   "cell_type": "markdown",
   "id": "0bb4f404-b6c9-49c1-9625-a9d8473bd37e",
   "metadata": {},
   "source": [
    "We reuse some code from the lecture on Feb 14 to generate some fake data.  \n",
    "\n",
    "For a more realistic situation, we suppose that some courses are more popular than others.\n",
    "We suppose that students are more likely to take one of the first four courses than the other 16.\n",
    "Below, we suppose that the probability of a student taking one of the first four courses is 12.5%, and the probability of a student taking any of the other 16 courses is 3.125%."
   ]
  },
  {
   "cell_type": "code",
   "execution_count": 7,
   "id": "2fa27415-e957-4b48-b33a-57de214a6a74",
   "metadata": {},
   "outputs": [],
   "source": [
    "C = np.zeros((n,m))\n",
    "maxcourses = 6\n",
    "for i in range(n):\n",
    "    generator = np.random.default_rng(seed=234442047089537783695512289678818298668+i)\n",
    "    ncourses = generator.integers(1,maxcourses+1)\n",
    "    # non-uniform probabilities\n",
    "    p = np.ones(m) * 0.03125\n",
    "    p[range(4)] = 0.125 # probability 0.5 to be in first 4 courses\n",
    "    js = generator.choice(range(m),size=ncourses,replace=False,p=p)\n",
    "    C[i,js] = 1."
   ]
  },
  {
   "cell_type": "code",
   "execution_count": 8,
   "id": "abc783f2-1623-4394-802f-ddb3cdbfee74",
   "metadata": {},
   "outputs": [
    {
     "data": {
      "image/png": "[encoded data removed]",
      "text/plain": [
       "<Figure size 640x480 with 1 Axes>"
      ]
     },
     "metadata": {},
     "output_type": "display_data"
    }
   ],
   "source": [
    "plt.imshow(C.T,cmap='binary'), plt.title(\"Courses vs. Students\")\n",
    "plt.show()"
   ]
  },
  {
   "cell_type": "markdown",
   "id": "8f8277ef-e16e-4c2d-b9de-d5b17b582208",
   "metadata": {},
   "source": [
    "Set up the adjacency matrix."
   ]
  },
  {
   "cell_type": "code",
   "execution_count": 9,
   "id": "3a446f10-085c-4099-9392-96b82f38e9b0",
   "metadata": {},
   "outputs": [
    {
     "data": {
      "image/png": "[encoded data removed]",
      "text/plain": [
       "<Figure size 640x480 with 1 Axes>"
      ]
     },
     "metadata": {},
     "output_type": "display_data"
    }
   ],
   "source": [
    "A = np.zeros((m,m))\n",
    "\n",
    "for j1 in range(m):\n",
    "    for j2 in range(j1+1,m): # check only un-checked combinations\n",
    "        # check if they share a student\n",
    "        if C[:,j1].T @ C[:,j2] >= 1: # share a student\n",
    "            A[j1,j2] = 1\n",
    "            A[j2,j1] = 1\n",
    "\n",
    "plt.imshow(A,cmap='binary'), plt.title(\"Adjacency Matrix\")\n",
    "plt.show()"
   ]
  },
  {
   "cell_type": "markdown",
   "id": "6e6bb5a5-b5e9-4147-abf3-d1120d6b4ddc",
   "metadata": {},
   "source": [
    "To implement the greedy algorithm, we iterate over the nodes and colour each with the smallest colour not used by its neighbours."
   ]
  },
  {
   "cell_type": "code",
   "execution_count": 38,
   "id": "cd68447b-154e-41a7-8aff-68b4b581f5f1",
   "metadata": {},
   "outputs": [],
   "source": [
    "def get_colour(adj, clr, j, s):\n",
    "    # get the colour of node j based on adjacency matrix (adj), already coloured nodes (clr)\n",
    "    j = int(j)\n",
    "    neighbours = np.bool_(adj[:,j])\n",
    "    nbr_clrs = clr[neighbours]\n",
    "    for k in range(s):\n",
    "        # iterate through possible colours and \n",
    "        if k not in nbr_clrs: return k\n",
    "            \n",
    "    return None # indicate that no suitable colour could be found\n",
    "\n",
    "def greedy_colour(adj, s, order):\n",
    "    # do a greedy colouring of the graph, checking the vertices in the specified order\n",
    "    _, m = adj.shape\n",
    "    colours = np.ones(m) * -1 # use -1 to represent uncoloured vertices\n",
    "    for j in order:\n",
    "        colour = get_colour(adj, colours, j, s)\n",
    "        if colour == None:\n",
    "            print(f'No valid colouring with at most {s} colours found.')\n",
    "            return None\n",
    "        else:\n",
    "            colours[j] = colour\n",
    "    return colours"
   ]
  },
  {
   "cell_type": "markdown",
   "id": "033f5c98-b111-4dc6-8b99-1d12ceb00a9b",
   "metadata": {},
   "source": [
    "The order that the vertices are visited matters to the algorithm.\n",
    "Kosowski and Manuszewski (2004) describe a number of strategies for ordering the vertices.\n",
    "This paper is also the source cited by `networkx` for its own implementation of these strategies using `greedy_color`.\n",
    "\n",
    "First, we try the \"naive\" strategy, Random Sequential: we visit the vertices in a random order."
   ]
  },
  {
   "cell_type": "code",
   "execution_count": 21,
   "id": "cb93e627-edc5-41d8-8fca-8cc674f57316",
   "metadata": {},
   "outputs": [
    {
     "name": "stdout",
     "output_type": "stream",
     "text": [
      "[19 16  5 10 11 18  0 13 15  1  4  3  2 12  8  7 14  6 17  9]\n"
     ]
    },
    {
     "data": {
      "text/plain": [
       "array([ 3.,  5.,  8.,  7.,  6.,  1.,  0., 11., 10.,  9.,  2.,  2.,  9.,\n",
       "        4.,  6.,  4.,  1., 11.,  0.,  0.])"
      ]
     },
     "execution_count": 21,
     "metadata": {},
     "output_type": "execute_result"
    }
   ],
   "source": [
    "rs_order = np.random.default_rng(seed=234442047089537783695512289678818298668).permutation(range(m))\n",
    "print(rs_order)\n",
    "greedy_colour(A,s,rs_order)"
   ]
  },
  {
   "cell_type": "markdown",
   "id": "7d6ec521-981b-42f9-8e1c-653a8d3c25b5",
   "metadata": {},
   "source": [
    "The greedy colouring finds a solution that uses 11 timeslots.  \n",
    "However, this naive approach often does not return a good colouring.\n",
    "We can modify the function slightly to instead check the vertices in order of decreasing degree - Kosowski and Manusewski term this the \"largest first\" strategy."
   ]
  },
  {
   "cell_type": "code",
   "execution_count": 22,
   "id": "25b58a03-2e52-4676-ae58-ab09c181faed",
   "metadata": {},
   "outputs": [],
   "source": [
    "def greedy_colour_lf(adj, s):\n",
    "    # get vertices in order of degree\n",
    "    deg = np.sum(adj,axis=0)\n",
    "    deg_sort = np.flip(np.argsort(deg)) # largest to smallest\n",
    "    return greedy_colour(adj, s, deg_sort)"
   ]
  },
  {
   "cell_type": "code",
   "execution_count": 23,
   "id": "68043bc6-233c-4639-82eb-77a6c28af11d",
   "metadata": {},
   "outputs": [
    {
     "data": {
      "text/plain": [
       "array([ 0.,  1.,  2.,  3.,  8.,  4.,  6.,  7.,  6.,  9.,  5.,  5., 10.,\n",
       "       11.,  8.,  6.,  4.,  7., 10.,  9.])"
      ]
     },
     "execution_count": 23,
     "metadata": {},
     "output_type": "execute_result"
    }
   ],
   "source": [
    "greedy_colour_lf(A, s)"
   ]
  },
  {
   "cell_type": "markdown",
   "id": "b9770c43-22d5-4ff4-8b60-3c3ab7fd54d1",
   "metadata": {},
   "source": [
    "In this particular case, ordering the vertices does not improve the result; we still need 11 colours.\n",
    "For this artificial example, the degrees of the vertices are all fairly large, so checking the highest degree vertices first is unlikely to produce much of an improvement. \n",
    "\n",
    "We can attempt one more adjustment - the \"smallest last\" method. This entails iteratively removing the smallest degree vertex from the graph, and then checking the vertices in the reverse of the resulting sequence."
   ]
  },
  {
   "cell_type": "code",
   "execution_count": 40,
   "id": "fc0069d9-0f00-4b47-9ebc-bacd1e571a01",
   "metadata": {},
   "outputs": [],
   "source": [
    "def greedy_colour_sl(adj,s):\n",
    "    _, m = adj.shape\n",
    "    V = adj.copy()\n",
    "    orig_idx = np.arange(m) # vertices of the original graph\n",
    "    K = np.ones(m) * np.inf # using array of inf as placeholder\n",
    "    for j in range(m):\n",
    "        # get smallest degree vertex\n",
    "        deg = np.sum(V,axis=0)\n",
    "        small_deg = np.argmin(deg)\n",
    "        K[j] = orig_idx[small_deg] # get the index of the original graph\n",
    "        # remove small_deg from V\n",
    "        V = np.delete(V, small_deg, axis=0)\n",
    "        V = np.delete(V, small_deg, axis=1)\n",
    "        orig_idx = np.delete(orig_idx, small_deg)\n",
    "    return greedy_colour(adj, s, np.flip(np.int32(K)))"
   ]
  },
  {
   "cell_type": "code",
   "execution_count": 41,
   "id": "e3ce0675-b767-4dd8-bc49-defed6d33a48",
   "metadata": {},
   "outputs": [
    {
     "data": {
      "text/plain": [
       "array([10.,  9.,  8.,  7.,  3.,  1.,  0.,  6.,  2., 11.,  5.,  5.,  4.,\n",
       "        4.,  3.,  2.,  1.,  6.,  0.,  0.])"
      ]
     },
     "execution_count": 41,
     "metadata": {},
     "output_type": "execute_result"
    }
   ],
   "source": [
    "greedy_colour_sl(A, s)"
   ]
  },
  {
   "cell_type": "markdown",
   "id": "d5436bb0-fb73-43af-b50f-a7b7f6c0884f",
   "metadata": {},
   "source": [
    "The smallest last method gives the same number of timeslots as the other two methods.  \n",
    "From this, we can guess that 11 is the true minimum number of timeslots needed for this data.  \n",
    "The reason all three versions give the same result may be because all the nodes have fairly large degree, meaning there are only a very limited number of ways to colour the graph."
   ]
  },
  {
   "cell_type": "markdown",
   "id": "2551cfce-fa2e-4aab-b875-8bf571035cf1",
   "metadata": {},
   "source": [
    "## References\n",
    "\n",
    "\"Greedy coloring\". *Wikipedia*, Wikimedia Foundation, https://en.wikipedia.org/wiki/Greedy_coloring. Accessed 22 Mar 2024.\n",
    "\n",
    "Kosowski, Adrian and Krzysztof Manuszewski. \"Classical Coloring of Graphs\". *Graph Colorings*, edited by Marek Kubale, The American Mathematical Society, 2004, pp. 2-19. https://doi.org/10.1090/conm/352\n",
    "\n",
    "Walls, Patrick. \"Scheduling Exams\". Math 441. Mathematical Modelling: Discrete Optimization Problems. 14 February 2024, University of British Columbia. Lecture."
   ]
  }
 ],
 "metadata": {
  "kernelspec": {
   "display_name": "Python 3 (ipykernel)",
   "language": "python",
   "name": "python3"
  },
  "language_info": {
   "codemirror_mode": {
    "name": "ipython",
    "version": 3
   },
   "file_extension": ".py",
   "mimetype": "text/x-python",
   "name": "python",
   "nbconvert_exporter": "python",
   "pygments_lexer": "ipython3",
   "version": "3.11.6"
  }
 },
 "nbformat": 4,
 "nbformat_minor": 5
}
