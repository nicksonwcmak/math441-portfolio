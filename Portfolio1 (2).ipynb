{
 "cells": [
  {
   "cell_type": "markdown",
   "id": "585f930f-5850-4074-9bc2-3e848faab620",
   "metadata": {},
   "source": [
    "**Visualizing the simplex method in high dimensions**\n",
    "\n",
    "We visualize a four-dimensional linear programming problem by finding all vertices of the feasible region, using principal component analysis to project into two dimensions, conduct the simplex algorithm to find the optimal solution, and visually display which vertices the simplex method visits."
   ]
  },
  {
   "cell_type": "code",
   "execution_count": 1,
   "id": "aa405124-6a47-4710-80a4-88524c6eb555",
   "metadata": {},
   "outputs": [],
   "source": [
    "import numpy as np\n",
    "import matplotlib.pyplot as plt\n",
    "import scipy.linalg as la\n",
    "from itertools import combinations"
   ]
  },
  {
   "cell_type": "markdown",
   "id": "8a901d46-ab7d-4cc9-9b8f-5d5cc2eef8b0",
   "metadata": {},
   "source": [
    "**Optimization Problem**\n",
    "\n",
    "We use Exercise 2.1 from Vanderbei (22):\n",
    "\\begin{align*}\n",
    "\\text{maximize }6x_1 + 8x_2 + 5x_3 + 9x_4\\\\\n",
    "\\text{subject to } 2x_1 + x_2 + x_3 + 3x_4 ≤ 5\\\\\n",
    "x_1+3x_2+ x_3+2x_4 ≤3\\\\\n",
    "x_1, x_2, x_3, x_4 ≥ 0\n",
    "\\end{align*}\n",
    "This problem was examined in lecture on 17 Jan 2024.  \n",
    "As it is a four-dimensional problem, it is difficult to visualize. We attempt to use PCA to project the problem to 2 dimensions, where it is easier to visualize."
   ]
  },
  {
   "cell_type": "markdown",
   "id": "df734e83-c354-4823-9504-37e3ddd8b600",
   "metadata": {},
   "source": [
    "**Problem setup**\n",
    "\n",
    "We set up the problem in matrix form."
   ]
  },
  {
   "cell_type": "code",
   "execution_count": 2,
   "id": "99a6153d-3c56-4469-ae68-c20ef24157d7",
   "metadata": {},
   "outputs": [
    {
     "name": "stdout",
     "output_type": "stream",
     "text": [
      "[[2. 1. 1. 3. 1. 0. 5.]\n",
      " [1. 3. 1. 2. 0. 1. 3.]\n",
      " [6. 8. 5. 9. 0. 0. 0.]]\n"
     ]
    }
   ],
   "source": [
    "A = np.array([[2,1,1,3],[1,3,1,2]])\n",
    "b = np.array([5,3])\n",
    "c = np.array([6,8,5,9])\n",
    "\n",
    "m,n = A.shape\n",
    "I = np.eye(m)\n",
    "T = np.vstack([ np.hstack([A,I,b.reshape((m,1))]) , np.hstack([c,np.zeros(m+1)]) ])\n",
    "print(T)"
   ]
  },
  {
   "cell_type": "markdown",
   "id": "ebc6d314-334e-4f74-8c9b-bd1101ab45f0",
   "metadata": {},
   "source": [
    "**Calculating all vertices**\n",
    "\n",
    "We calculate all vertices of the feasible region.  \n",
    "There are ${6 \\choose 2} = 15$ vertices.  \n",
    "Each vertex corresponds to a choice of 4 basic (nonzero) variables.  \n",
    "We use the function `combinations` from the `itertools` package to iterate through all possible choices of 2 out of 6 variables.\n",
    "Each combination corresponds to a vertex. \n",
    "We use a masking array to indicate whether or not a vertex is within the feasible region (has only positive variable values)."
   ]
  },
  {
   "cell_type": "code",
   "execution_count": 4,
   "id": "8d32755b-a364-4896-8830-4bf908bb4bf2",
   "metadata": {},
   "outputs": [
    {
     "name": "stdout",
     "output_type": "stream",
     "text": [
      "[[  2.4    0.2    0.     0.     0.     0.  ]\n",
      " [  2.     0.     1.     0.     0.     0.  ]\n",
      " [  1.     0.     0.     1.     0.     0.  ]\n",
      " [  3.     0.     0.     0.    -1.     0.  ]\n",
      " [  2.5    0.     0.     0.     0.     0.5 ]\n",
      " [  0.    -1.     6.     0.     0.     0.  ]\n",
      " [  0.    -0.14   0.     1.71   0.     0.  ]\n",
      " [  0.     1.     0.     0.     4.     0.  ]\n",
      " [  0.     5.     0.     0.     0.   -12.  ]\n",
      " [  0.     0.    -1.     2.     0.     0.  ]\n",
      " [  0.     0.     3.     0.     2.     0.  ]\n",
      " [  0.     0.     5.     0.     0.    -2.  ]\n",
      " [  0.     0.     0.     1.5    0.5    0.  ]\n",
      " [  0.     0.     0.     1.67   0.    -0.33]\n",
      " [  0.     0.     0.     0.     5.     3.  ]]\n"
     ]
    }
   ],
   "source": [
    "x = range(6) # vector representing variables \n",
    "V = np.zeros((15,6))\n",
    "\n",
    "i = 0\n",
    "combos = combinations(x,2) #  all possible sets of basic variables\n",
    "for basic in combos: # iterates through all possible sets of basic variables\n",
    "    u = la.solve(T[0:m,basic],b) # solve for the 2 nonzero variables\n",
    "    V[i,basic] = u.flatten() # store values in matrix V\n",
    "    i+=1\n",
    "\n",
    "feasible = np.all(V >= 0,axis=1)\n",
    "print(V.round(2))"
   ]
  },
  {
   "cell_type": "markdown",
   "id": "9d80942b-2487-427f-b198-7841ba5b00fa",
   "metadata": {},
   "source": [
    "**Visualizing vertices**\n",
    "\n",
    "We perform principal component analysis using singular value decomposition on the matrix and take the first 2 principal components.  \n",
    "Reference: https://ubcmath.github.io/MATH307/notebooks/07_pca.html\n",
    "[course notes from MATH 307]"
   ]
  },
  {
   "cell_type": "code",
   "execution_count": 5,
   "id": "88979206-aefb-4eaa-be65-f0e0c7ed4199",
   "metadata": {},
   "outputs": [
    {
     "name": "stdout",
     "output_type": "stream",
     "text": [
      "(15, 15) (6,) (6, 6)\n"
     ]
    }
   ],
   "source": [
    "Vc = V - V.mean(axis=0) # normalize V\n",
    "P, S, QT = la.svd(Vc)\n",
    "print(P.shape,S.shape,QT.shape)"
   ]
  },
  {
   "cell_type": "markdown",
   "id": "279280cd-fea3-4da1-83fa-719ca90cc22d",
   "metadata": {},
   "source": [
    "The rows of QT are the weight vectors.  \n",
    "To get the projection of V into two dimensions, we take the first two rows of QT and multiply with Vc."
   ]
  },
  {
   "cell_type": "code",
   "execution_count": 7,
   "id": "8852e671-f2e4-4069-99ad-2febb6c62211",
   "metadata": {},
   "outputs": [
    {
     "name": "stdout",
     "output_type": "stream",
     "text": [
      "[[-0.65815877 -0.97316915]\n",
      " [-0.73137252  0.07046997]\n",
      " [-0.68758826 -0.8974873 ]\n",
      " [-0.61101776 -0.89846362]\n",
      " [-1.19466432 -0.98122542]\n",
      " [-1.09744124  5.28866554]\n",
      " [-0.70860932 -0.84342884]\n",
      " [-0.84672281 -1.27199124]\n",
      " [12.21797449 -0.77981858]\n",
      " [-0.643804   -1.86544457]\n",
      " [-0.97208203  2.00833715]\n",
      " [ 1.12179471  4.27725152]\n",
      " [-0.7258735  -0.89699914]\n",
      " [-0.34953754 -0.84166189]\n",
      " [-4.11289713 -1.39503441]]\n"
     ]
    }
   ],
   "source": [
    "V2D = Vc @ QT[0:2,:].T\n",
    "print(V2D)"
   ]
  },
  {
   "cell_type": "code",
   "execution_count": 8,
   "id": "a0d6f869-c238-40c7-b692-08f12f86e9f2",
   "metadata": {},
   "outputs": [
    {
     "data": {
      "image/png": "[encoded data removed]",
      "text/plain": [
       "<Figure size 640x480 with 1 Axes>"
      ]
     },
     "metadata": {},
     "output_type": "display_data"
    }
   ],
   "source": [
    "plt.scatter(V2D[:,0],V2D[:,1],c=feasible)\n",
    "plt.xlabel(\"Principal Component 1\")\n",
    "plt.ylabel(\"Principal Component 2\")\n",
    "plt.grid()\n",
    "plt.show()"
   ]
  },
  {
   "cell_type": "markdown",
   "id": "aa69cf5b-4898-40b2-9a0e-ce80d7b8c795",
   "metadata": {},
   "source": [
    "Feasible vertices are marked in yellow, and infeasible vertices are marked in purple."
   ]
  },
  {
   "cell_type": "markdown",
   "id": "8bdc5e93-f03f-4971-9513-95d6ce06c95c",
   "metadata": {},
   "source": [
    "We construct a dictionary which has the sets of basic variables as keys, and the corresponding coordinates in V2D as values."
   ]
  },
  {
   "cell_type": "code",
   "execution_count": 9,
   "id": "4934f898-dc97-448e-93dc-773c4f7fe402",
   "metadata": {},
   "outputs": [
    {
     "name": "stdout",
     "output_type": "stream",
     "text": [
      "{(0, 1): array([-0.65815877, -0.97316915]), (0, 2): array([-0.73137252,  0.07046997]), (0, 3): array([-0.68758826, -0.8974873 ]), (0, 4): array([-0.61101776, -0.89846362]), (0, 5): array([-1.19466432, -0.98122542]), (1, 2): array([-1.09744124,  5.28866554]), (1, 3): array([-0.70860932, -0.84342884]), (1, 4): array([-0.84672281, -1.27199124]), (1, 5): array([12.21797449, -0.77981858]), (2, 3): array([-0.643804  , -1.86544457]), (2, 4): array([-0.97208203,  2.00833715]), (2, 5): array([1.12179471, 4.27725152]), (3, 4): array([-0.7258735 , -0.89699914]), (3, 5): array([-0.34953754, -0.84166189]), (4, 5): array([-4.11289713, -1.39503441])}\n"
     ]
    }
   ],
   "source": [
    "# construct a dictionary of vertex values for each basic variable\n",
    "vdict = {}\n",
    "i = 0\n",
    "for basic in combinations(x,2): # iterates through all possible sets of basic variables\n",
    "    vdict[basic] = V2D[i,:]\n",
    "    i+=1\n",
    "\n",
    "print(vdict)"
   ]
  },
  {
   "cell_type": "markdown",
   "id": "0873f1aa-fa70-4829-9ffb-a606b64b9801",
   "metadata": {},
   "source": [
    "**Applying the simplex method**\n",
    "\n",
    "We perform the simplex method to find the optimal solution.  \n",
    "The code for the pivot function is referenced from lecture."
   ]
  },
  {
   "cell_type": "code",
   "execution_count": 10,
   "id": "f5f136d8-35bb-40eb-88a6-b769a9041ae8",
   "metadata": {},
   "outputs": [
    {
     "name": "stdout",
     "output_type": "stream",
     "text": [
      "[[2. 1. 1. 3. 1. 0. 5.]\n",
      " [1. 3. 1. 2. 0. 1. 3.]\n",
      " [6. 8. 5. 9. 0. 0. 0.]]\n"
     ]
    }
   ],
   "source": [
    "def pivot(T,k,l):\n",
    "    E = np.eye(T.shape[0])\n",
    "    E[:,l] = -T[:,k]/T[l,k]\n",
    "    E[l,l] = 1/T[l,k]\n",
    "    return E@T\n",
    "\n",
    "print(T)"
   ]
  },
  {
   "cell_type": "markdown",
   "id": "67fa4a98-156f-47fc-a468-e61883104fd3",
   "metadata": {},
   "source": [
    "We perform the simplex method, recording the transformed coordinates of each visited vertex.  \n",
    "We use the rule to always take the entering variable with the largest coefficient in the current function."
   ]
  },
  {
   "cell_type": "code",
   "execution_count": 11,
   "id": "bc503bc7-7e60-4011-b678-33600f518fc2",
   "metadata": {},
   "outputs": [
    {
     "name": "stdout",
     "output_type": "stream",
     "text": [
      "[[  0.5  -3.5  -0.5   0.    1.   -1.5   0.5]\n",
      " [  0.5   1.5   0.5   1.    0.    0.5   1.5]\n",
      " [  1.5  -5.5   0.5   0.    0.   -4.5 -13.5]]\n",
      "[-0.7258735  -0.89699914]\n"
     ]
    }
   ],
   "source": [
    "visited = np.array([vdict[(4,5)]]) # initial basic variables are the slack variables\n",
    "T1 = pivot(T,3,1) # x3 enters the basis, x5 leaves the basis\n",
    "basic = (3,4) \n",
    "print(T1.round(2))\n",
    "print(vdict[basic])\n",
    "visited = np.append(visited,[vdict[basic]],axis=0)"
   ]
  },
  {
   "cell_type": "code",
   "execution_count": 12,
   "id": "675e5e7f-c8a9-4da9-baed-50c6275deb4a",
   "metadata": {},
   "outputs": [
    {
     "name": "stdout",
     "output_type": "stream",
     "text": [
      "[[  1.  -7.  -1.   0.   2.  -3.   1.]\n",
      " [  0.   5.   1.   1.  -1.   2.   1.]\n",
      " [  0.   5.   2.   0.  -3.   0. -15.]]\n",
      "[-0.61101776 -0.89846362]\n"
     ]
    }
   ],
   "source": [
    "T2 = pivot(T1,0,0) # x0 enters, x3 leaves\n",
    "basic = (0,4)\n",
    "print(T2.round(2))\n",
    "print(vdict[basic])\n",
    "visited = np.append(visited,[vdict[basic]],axis=0)"
   ]
  },
  {
   "cell_type": "code",
   "execution_count": 13,
   "id": "50fb706d-de47-4452-8816-91817938a743",
   "metadata": {},
   "outputs": [
    {
     "name": "stdout",
     "output_type": "stream",
     "text": [
      "[[  1.    0.    0.4   1.4   0.6  -0.2   2.4]\n",
      " [  0.    1.    0.2   0.2  -0.2   0.4   0.2]\n",
      " [  0.    0.    1.   -1.   -2.   -2.  -16. ]]\n",
      "[-0.65815877 -0.97316915]\n"
     ]
    }
   ],
   "source": [
    "T3 = pivot(T2,1,1) #x1 enters, x4 leaves\n",
    "basic = (0,1) \n",
    "print(T3.round(2))\n",
    "print(vdict[basic])\n",
    "visited = np.append(visited,[vdict[basic]],axis=0)"
   ]
  },
  {
   "cell_type": "code",
   "execution_count": 14,
   "id": "7800ac4c-1abf-4f55-a411-575f237291d7",
   "metadata": {},
   "outputs": [
    {
     "name": "stdout",
     "output_type": "stream",
     "text": [
      "[[  1.  -2.   0.   1.   1.  -1.   2.]\n",
      " [  0.   5.   1.   1.  -1.   2.   1.]\n",
      " [  0.  -5.   0.  -2.  -1.  -4. -17.]]\n",
      "[-0.73137252  0.07046997]\n"
     ]
    }
   ],
   "source": [
    "T4 = pivot(T3,2,1) #x2 enters, x1 leaves\n",
    "basic = (0,2)\n",
    "print(T4.round(2))\n",
    "print(vdict[basic])\n",
    "visited = np.append(visited,[vdict[basic]],axis=0)"
   ]
  },
  {
   "cell_type": "code",
   "execution_count": 15,
   "id": "d52fde57-2893-4749-b58f-bfa411cf6b21",
   "metadata": {},
   "outputs": [
    {
     "data": {
      "text/plain": [
       "array([[-4.11289713, -1.39503441],\n",
       "       [-0.7258735 , -0.89699914],\n",
       "       [-0.61101776, -0.89846362],\n",
       "       [-0.65815877, -0.97316915],\n",
       "       [-0.73137252,  0.07046997]])"
      ]
     },
     "execution_count": 15,
     "metadata": {},
     "output_type": "execute_result"
    }
   ],
   "source": [
    "visited"
   ]
  },
  {
   "cell_type": "markdown",
   "id": "6a1b68b1-3fe0-45b8-b38c-93bc49a0d77e",
   "metadata": {},
   "source": [
    "We have reached an optimal vertex.  \n",
    "We plot the sequence of visited vertices (cropping the graph to show only the feasible vertices)."
   ]
  },
  {
   "cell_type": "code",
   "execution_count": 28,
   "id": "9d5dd65c-46f2-4698-93f1-bde2a456b4f0",
   "metadata": {},
   "outputs": [
    {
     "data": {
      "image/png": "[encoded data removed]",
      "text/plain": [
       "<Figure size 640x480 with 1 Axes>"
      ]
     },
     "metadata": {},
     "output_type": "display_data"
    }
   ],
   "source": [
    "plt.scatter(V2D[:,0],V2D[:,1],c=feasible)\n",
    "plt.plot(visited[:,0],visited[:,1],'o-',label=\"Visited Vertices\") \n",
    "#plt.scatter(visited[0,0],visited[0,1],color='red',label='Initial Vertex')\n",
    "#plt.scatter(visited[-1,0],visited[-1,1],color='green',label='Optimal Vertex')\n",
    "plt.xlabel(\"Principal Component 1\")\n",
    "plt.ylabel(\"Principal Component 2\")\n",
    "plt.legend()\n",
    "plt.xlim(-4.2,-0.5)\n",
    "plt.ylim(-1.5,2.1)\n",
    "plt.grid()\n",
    "plt.show()"
   ]
  },
  {
   "cell_type": "markdown",
   "id": "7b24875d-99a4-4434-8a9e-8bbe562b13dd",
   "metadata": {},
   "source": [
    "The sequence of visited vertices is indicated in blue. The "
   ]
  },
  {
   "cell_type": "markdown",
   "id": "0deb1332-2c43-49a2-8bd5-5898c5017110",
   "metadata": {},
   "source": [
    "**References**\n",
    "\n",
    "*MATH 307 Applied Linear Algebra*, University of British Columbia Department of Mathematics, 2022, https://ubcmath.github.io/MATH307/. Accessed 1 February 2024.  \n",
    "Vanderbei, Robert J. *Linear Programming: Foundations and Extensions*. 5th ed. Springer, 2020.  \n",
    "Walls, Patrick. \"Simplex Method\". Math 441. Mathematical Modelling: Discrete Optimization Problems. 17 January 2024, University of British Columbia. Lecture."
   ]
  }
 ],
 "metadata": {
  "kernelspec": {
   "display_name": "Python 3 (ipykernel)",
   "language": "python",
   "name": "python3"
  },
  "language_info": {
   "codemirror_mode": {
    "name": "ipython",
    "version": 3
   },
   "file_extension": ".py",
   "mimetype": "text/x-python",
   "name": "python",
   "nbconvert_exporter": "python",
   "pygments_lexer": "ipython3",
   "version": "3.11.6"
  }
 },
 "nbformat": 4,
 "nbformat_minor": 5
}
