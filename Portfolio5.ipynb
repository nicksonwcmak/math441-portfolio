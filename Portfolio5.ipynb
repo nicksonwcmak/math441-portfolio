{
 "cells": [
  {
   "cell_type": "markdown",
   "id": "7d2f975c-9b4c-43ad-a647-ad3ec4f33cc4",
   "metadata": {},
   "source": [
    "# Portfolio 5: Network Flow with Congestion\n",
    "\n",
    "We consider the minimum cost network flow problem with congestion.  \n",
    "The minimum cost network flow problem is a linear programming problem, and the addition of congestion turns it into a quadratic programming problem.  The problem is somewhat similar to the maximum flow problem and the optimal transport problem which were discussed in class."
   ]
  },
  {
   "cell_type": "markdown",
   "id": "ed430273-c112-40a5-8ebb-db2199e38a28",
   "metadata": {},
   "source": [
    "## Problem statement\n",
    "\n",
    "Let $G = (V, E)$ be a network with $n = |V|$ nodes and $m = |E|$ edges.  \n",
    "For each node $i = 0, \\dots n-1$, let $b_i$ be its supply/demand value.  \n",
    "$b_i > 0$ represents supply, $b_i < 0$ represents demand, and $b_i = 0$ represents a node without any supply or demand.\n",
    "We assume that the total supply is equal to the total demand, i.e. $\\sum_i b_i = 0$.  \n",
    "For each edge $(i,j)$, let $c_k$ be the coefficient of the cost to move supply along that edge. \n",
    "Let $A$ be the node-arc incidence matrix. \n",
    "\n",
    "**Decision Variables:**\n",
    "Let $x_k$ be the flow along edge $k$.  \n",
    "\n",
    "**Objective function:**  \n",
    "We assume the cost to move $x_k$ units of supply along edge $x_k$ is proportional to the amount of supply being moved, i.e. the cost is $c_k x_k^2$.\n",
    "We wish to minimize the total cost: $\\min \\sum_k c_kx_k^2$\n",
    "This makes the problem a quadratic programming problem.\n",
    "\n",
    "**Constraints:**  \n",
    "The flow into and out of a node must be equal to the supply/demand at that node:\n",
    "$$\n",
    "\\sum_{e_k = (j,i)} x_k - \\sum_{e_k = (i,j)} x_k = -b_i \\ , \\ \\ i=0,\\dots,n-1\n",
    "$$\n",
    "\n",
    "\n",
    "This problem statement is largely taken from the lecture of Jan 26."
   ]
  },
  {
   "cell_type": "markdown",
   "id": "65f6626a-9f1f-4d6d-9f57-bff0f22884b4",
   "metadata": {},
   "source": [
    "## Computing Solutions"
   ]
  },
  {
   "cell_type": "code",
   "execution_count": 4,
   "id": "be622280-e528-46d1-bf0f-d9dda9c2d3bc",
   "metadata": {},
   "outputs": [],
   "source": [
    "import numpy as np\n",
    "import cvxpy as cp\n",
    "import networkx as nx\n",
    "import matplotlib.pyplot as plt"
   ]
  },
  {
   "cell_type": "code",
   "execution_count": 2,
   "id": "90a6ffe2-e667-4c62-9b23-07775da2a5f9",
   "metadata": {},
   "outputs": [
    {
     "name": "stdout",
     "output_type": "stream",
     "text": [
      "\u001b[33mWARNING: Skipping /opt/conda/lib/python3.11/site-packages/nlopt-2.7.1.dist-info due to invalid metadata entry 'name'\u001b[0m\u001b[33m\n",
      "\u001b[0mCollecting cvxpy\n",
      "  Using cached cvxpy-1.4.2-cp311-cp311-manylinux_2_17_x86_64.manylinux2014_x86_64.whl.metadata (8.8 kB)\n",
      "Collecting osqp>=0.6.2 (from cvxpy)\n",
      "  Using cached osqp-0.6.5-cp311-cp311-manylinux_2_5_x86_64.manylinux1_x86_64.manylinux_2_17_x86_64.manylinux2014_x86_64.whl.metadata (1.8 kB)\n",
      "Collecting ecos>=2 (from cvxpy)\n",
      "  Using cached ecos-2.0.13-cp311-cp311-manylinux_2_17_x86_64.manylinux2014_x86_64.whl.metadata (8.0 kB)\n",
      "Collecting clarabel>=0.5.0 (from cvxpy)\n",
      "  Using cached clarabel-0.7.1-cp37-abi3-manylinux_2_17_x86_64.manylinux2014_x86_64.whl.metadata (4.6 kB)\n",
      "Collecting scs>=3.0 (from cvxpy)\n",
      "  Using cached scs-3.2.4.post1-cp311-cp311-manylinux_2_17_x86_64.manylinux2014_x86_64.whl.metadata (2.1 kB)\n",
      "Requirement already satisfied: numpy>=1.15 in /opt/conda/lib/python3.11/site-packages (from cvxpy) (1.26.2)\n",
      "Requirement already satisfied: scipy>=1.1.0 in /opt/conda/lib/python3.11/site-packages (from cvxpy) (1.11.4)\n",
      "Collecting pybind11 (from cvxpy)\n",
      "  Using cached pybind11-2.12.0-py3-none-any.whl.metadata (9.5 kB)\n",
      "Collecting qdldl (from osqp>=0.6.2->cvxpy)\n",
      "  Using cached qdldl-0.1.7.post0-cp311-cp311-manylinux_2_17_x86_64.manylinux2014_x86_64.whl.metadata (1.7 kB)\n",
      "Using cached cvxpy-1.4.2-cp311-cp311-manylinux_2_17_x86_64.manylinux2014_x86_64.whl (1.2 MB)\n",
      "Using cached clarabel-0.7.1-cp37-abi3-manylinux_2_17_x86_64.manylinux2014_x86_64.whl (1.3 MB)\n",
      "Using cached ecos-2.0.13-cp311-cp311-manylinux_2_17_x86_64.manylinux2014_x86_64.whl (221 kB)\n",
      "Using cached osqp-0.6.5-cp311-cp311-manylinux_2_5_x86_64.manylinux1_x86_64.manylinux_2_17_x86_64.manylinux2014_x86_64.whl (299 kB)\n",
      "Using cached scs-3.2.4.post1-cp311-cp311-manylinux_2_17_x86_64.manylinux2014_x86_64.whl (10.4 MB)\n",
      "Using cached pybind11-2.12.0-py3-none-any.whl (234 kB)\n",
      "Using cached qdldl-0.1.7.post0-cp311-cp311-manylinux_2_17_x86_64.manylinux2014_x86_64.whl (1.1 MB)\n",
      "\u001b[33mWARNING: Skipping /opt/conda/lib/python3.11/site-packages/nlopt-2.7.1.dist-info due to invalid metadata entry 'name'\u001b[0m\u001b[33m\n",
      "\u001b[0mInstalling collected packages: pybind11, scs, qdldl, ecos, clarabel, osqp, cvxpy\n",
      "Successfully installed clarabel-0.7.1 cvxpy-1.4.2 ecos-2.0.13 osqp-0.6.5 pybind11-2.12.0 qdldl-0.1.7.post0 scs-3.2.4.post1\n"
     ]
    }
   ],
   "source": [
    "#!pip install cvxpy"
   ]
  },
  {
   "cell_type": "markdown",
   "id": "145472d4-1d9d-4961-8042-c3846ca8e410",
   "metadata": {},
   "source": [
    "We construct some simple data to demonstrate the algorithm.  "
   ]
  },
  {
   "cell_type": "code",
   "execution_count": 8,
   "id": "3e878c93-0798-4afc-b769-0371304f3f35",
   "metadata": {},
   "outputs": [
    {
     "data": {
      "image/png": "[encoded data removed]",
      "text/plain": [
       "<Figure size 400x300 with 1 Axes>"
      ]
     },
     "metadata": {},
     "output_type": "display_data"
    }
   ],
   "source": [
    "nodes = [0,1,2,3]\n",
    "coordinates = [(0,0),(2,0),(1,1),(1,-1)]\n",
    "edges = [(0,1),(0,2),(0,3),(2,1),(3,1)]\n",
    "G = nx.DiGraph()\n",
    "G.add_nodes_from(nodes)\n",
    "G.add_edges_from(edges)\n",
    "plt.figure(figsize=(4,3))\n",
    "nx.draw(G,pos=coordinates,with_labels=True)"
   ]
  },
  {
   "cell_type": "code",
   "execution_count": 9,
   "id": "0ec5e200-a043-44a2-9e10-9d2f237a6350",
   "metadata": {},
   "outputs": [
    {
     "data": {
      "text/plain": [
       "array([[-1., -1., -1.,  0.,  0.],\n",
       "       [ 1.,  0.,  0.,  1.,  1.],\n",
       "       [ 0.,  1.,  0., -1.,  0.],\n",
       "       [ 0.,  0.,  1.,  0., -1.]])"
      ]
     },
     "execution_count": 9,
     "metadata": {},
     "output_type": "execute_result"
    }
   ],
   "source": [
    "A = nx.incidence_matrix(G,oriented=True).toarray()\n",
    "A"
   ]
  },
  {
   "cell_type": "code",
   "execution_count": 10,
   "id": "542a3601-5949-4a07-abc8-386d0ffba8d3",
   "metadata": {},
   "outputs": [],
   "source": [
    "b = np.array([10,-10,0,0])\n",
    "c = np.array([3,2,2,2,2])"
   ]
  },
  {
   "cell_type": "markdown",
   "id": "ce512ba8-4f2c-41e5-95f3-4f5a985bcff4",
   "metadata": {},
   "source": [
    "There are 10 units of supply at the source node 0, and 10 units of demand at the sink node 1. Nodes 2 and 3 are shipping nodes.  \n",
    "The cost is 3 for the edge (0,1) and 2 for all other edges.  \n",
    "The solution without congestion is to send all 10 units of supply through the edge (0,1). Without congestion, the cost to send any unit of supply from 0 to 1 is 3 when using that edge, but 4 when using the routes through nodes 2 or 3.\n",
    "\n",
    "We use `cvxpy` to compute the solution with congestion.  \n",
    "To use it, we must convert the form of the objective function: the cost vector c becomes a diagonal matrix C, and optimize $x^TCx$.  "
   ]
  },
  {
   "cell_type": "code",
   "execution_count": 20,
   "id": "b17540af-568a-441c-adb3-e13dcb8382f4",
   "metadata": {},
   "outputs": [],
   "source": [
    "n,m = A.shape\n",
    "C = np.diag(c)\n",
    "x = cp.Variable(m)\n",
    "obj = cp.Minimize(cp.quad_form(x,C))\n",
    "constraints = [A@x == -b, x >= 0]\n",
    "problem = cp.Problem(obj,constraints)"
   ]
  },
  {
   "cell_type": "code",
   "execution_count": 21,
   "id": "9ea1ab1f-5a60-4f4a-b444-590648318d74",
   "metadata": {},
   "outputs": [
    {
     "data": {
      "text/plain": [
       "120.0"
      ]
     },
     "execution_count": 21,
     "metadata": {},
     "output_type": "execute_result"
    }
   ],
   "source": [
    "problem.solve()"
   ]
  },
  {
   "cell_type": "code",
   "execution_count": 25,
   "id": "f242d9f8-89a9-4cde-a416-ee2aa3499f65",
   "metadata": {},
   "outputs": [
    {
     "data": {
      "text/plain": [
       "array([4., 3., 3., 3., 3.])"
      ]
     },
     "execution_count": 25,
     "metadata": {},
     "output_type": "execute_result"
    }
   ],
   "source": [
    "x.value"
   ]
  },
  {
   "cell_type": "markdown",
   "id": "b02ed94b-2f1f-4990-9ee7-9e601b25b222",
   "metadata": {},
   "source": [
    "The optimal solution with congestion does not exclusively use the (0,1) edge. \n",
    "It sends 4 units of supply through (0,1) (cost $3 \\times 4^2 = 48$), and 3 units of supply through each of nodes 2 and 3 (cost $2 \\times 3^2  + 2 \\times 3^2= 36$ per branch) for a total cost of 120.\n",
    "The cost to send all of the supply through the (0,1) edge would be $3\\times 10^2 = 100$, far larger than the optimal solution with congestion."
   ]
  },
  {
   "cell_type": "markdown",
   "id": "158b4740-e63d-4ff0-9f86-0c8b574858c7",
   "metadata": {},
   "source": [
    "We can consider a more complex example: Figure 14.1 from Vanderbei p. 230.\n",
    "The code to generate the graph is taken from the lecture of Jan 24."
   ]
  },
  {
   "cell_type": "code",
   "execution_count": 5,
   "id": "9b0d507a-dc9a-4e46-84d9-e53bde0a491f",
   "metadata": {},
   "outputs": [
    {
     "data": {
      "image/png": "[encoded data removed]",
      "text/plain": [
       "<Figure size 400x300 with 1 Axes>"
      ]
     },
     "metadata": {},
     "output_type": "display_data"
    }
   ],
   "source": [
    "nodes = list('abcdefg')\n",
    "coordinates = {'a':(0,3),'b':(2,1),'c':(1,1),'d':(2,2),'e':(3,3),'f':(0,0),'g':(3,0) }\n",
    "edges = [('a','c'),('a','d'),('a','e'),('b','a'),('b','c'),('b','e'),('d','b'),\n",
    "         ('d','e'),('f','a'),('f','b'),('f','c'),('f','g'),('g','b'),('g','e')]\n",
    "G = nx.DiGraph()\n",
    "G.add_nodes_from(nodes)\n",
    "G.add_edges_from(edges)\n",
    "plt.figure(figsize=(4,3))\n",
    "nx.draw(G,pos=coordinates,with_labels=True,node_color='C1')"
   ]
  },
  {
   "cell_type": "code",
   "execution_count": 11,
   "id": "ed22ed93-91ad-481e-af0c-6b12c68002f4",
   "metadata": {},
   "outputs": [
    {
     "name": "stdout",
     "output_type": "stream",
     "text": [
      "[[-1. -1. -1.  1.  0.  0.  0.  0.  1.  0.  0.  0.  0.  0.]\n",
      " [ 0.  0.  0. -1. -1. -1.  1.  0.  0.  1.  0.  0.  1.  0.]\n",
      " [ 1.  0.  0.  0.  1.  0.  0.  0.  0.  0.  1.  0.  0.  0.]\n",
      " [ 0.  1.  0.  0.  0.  0. -1. -1.  0.  0.  0.  0.  0.  0.]\n",
      " [ 0.  0.  1.  0.  0.  1.  0.  1.  0.  0.  0.  0.  0.  1.]\n",
      " [ 0.  0.  0.  0.  0.  0.  0.  0. -1. -1. -1. -1.  0.  0.]\n",
      " [ 0.  0.  0.  0.  0.  0.  0.  0.  0.  0.  0.  1. -1. -1.]]\n"
     ]
    }
   ],
   "source": [
    "A = nx.incidence_matrix(G,oriented=True).toarray()\n",
    "print(A)"
   ]
  },
  {
   "cell_type": "code",
   "execution_count": 7,
   "id": "7962e014-39a8-4d48-b791-d4c5be0151f5",
   "metadata": {},
   "outputs": [],
   "source": [
    "b = np.array([0,0,-6,-6,-2,9,5])\n",
    "c = np.array([48,28,10,7,65,7,38,15,56,48,108,24,33,19])"
   ]
  },
  {
   "cell_type": "code",
   "execution_count": 8,
   "id": "267014df-b41c-42fe-9f5a-9e543a739e3d",
   "metadata": {},
   "outputs": [],
   "source": [
    "n,m = A.shape\n",
    "C = np.diag(c)\n",
    "x = cp.Variable(m)\n",
    "obj = cp.Minimize(cp.quad_form(x,C))\n",
    "constraints = [A@x == -b, x >= 0]\n",
    "problem = cp.Problem(obj,constraints)"
   ]
  },
  {
   "cell_type": "code",
   "execution_count": 9,
   "id": "7bcc8c9a-9471-4f2e-a8e8-32dffd870219",
   "metadata": {},
   "outputs": [
    {
     "data": {
      "text/plain": [
       "3604.3275161285587"
      ]
     },
     "execution_count": 9,
     "metadata": {},
     "output_type": "execute_result"
    }
   ],
   "source": [
    "problem.solve()"
   ]
  },
  {
   "cell_type": "code",
   "execution_count": 12,
   "id": "c75f4aea-e2e5-4b68-be77-f3b80bbc6003",
   "metadata": {},
   "outputs": [
    {
     "data": {
      "text/plain": [
       "array([ 1.79,  6.  , -0.  ,  4.73,  1.83, -0.  , -0.  , -0.  ,  3.06,\n",
       "        2.88,  2.38,  0.69,  3.69,  2.  ])"
      ]
     },
     "execution_count": 12,
     "metadata": {},
     "output_type": "execute_result"
    }
   ],
   "source": [
    "np.round(x.value,2)"
   ]
  },
  {
   "cell_type": "markdown",
   "id": "c23a0b54-0747-4df5-9751-a72d37f82420",
   "metadata": {},
   "source": [
    "The optimal solution calculated for the case without congestion is `array([ 6.,  6.,  0., 12.,  0.,  0.,  0.,  0.,  0.,  9.,  0.,  0.,  3., 2.])`, with the optimal cost being 1109 (from the lecture on 24 Jan)."
   ]
  },
  {
   "cell_type": "markdown",
   "id": "a6c81418-35b9-491c-b1c5-994fbb99d797",
   "metadata": {},
   "source": [
    "## Comparison to Network Flow without Congestion\n",
    "\n",
    "The solutions with congestions differ significantly from the solutions without.  \n",
    "When congestion is added, the flow is more spread out, and routes with higher cost coefficients may be used. Congestion causes the cost of using an edge to increase with the amount of supply being sent through it, so it will cause the supply to be spread out over a larger number of edges.\n",
    "Without congestion, the minimum-cost path between any source and sink is independent of the amount of supply being sent through it, so optimal routes will send the full supply being sent from that source to that sink via a single path (barring edge cases where the minimum-cost path is not unique).\n",
    "The addition of congestion means that the optimal path depends on how much supply is being sent, which leads to the supply being diverted through multiple paths to reach the sink.\n",
    "\n",
    "In the second example, the optimal solution contains many non-integer flow values, even though all the cost and supply/demand values are integers. This does not happen without congestion.\n",
    "The Integrality Theorem (Vanderbei p. 247) guarantees that if the supply and demand values are all integers, then the optimal solution assigns an integer flow to every arc. This is a consequence of the way that the optimal flows are calculated - they are calculated as \n",
    "Since congestion breaks the linearity of the system, the Integrality Theorem no longer applies. Conceptually, the quadratic nature of the objective function may cause the optimal solution to occur in the middle of the feasible region, far from any vertex. There is no guarantee that the optimal solution will have integer valued flows, as in the second example above."
   ]
  },
  {
   "cell_type": "markdown",
   "id": "c03fca14-8c7f-422a-9ac8-04c44027d564",
   "metadata": {},
   "source": [
    "## References\n",
    "\n",
    "Vanderbei, Robert J. *Linear Programming: Foundations and Extensions*, 5th ed. Springer, 2020.\n",
    "\n",
    "Walls, Patrick. \"Graphs\". Math 441. Mathematical Modelling: Discrete Optimization Problems. 24 January 2024, University of British Columbia. Lecture.  \n",
    "\n",
    "Walls, Patrick. \"Network Flows\". Math 441. Mathematical Modelling: Discrete Optimization Problems. 26 January 2024, University of British Columbia. Lecture.  "
   ]
  }
 ],
 "metadata": {
  "kernelspec": {
   "display_name": "Python 3 (ipykernel)",
   "language": "python",
   "name": "python3"
  },
  "language_info": {
   "codemirror_mode": {
    "name": "ipython",
    "version": 3
   },
   "file_extension": ".py",
   "mimetype": "text/x-python",
   "name": "python",
   "nbconvert_exporter": "python",
   "pygments_lexer": "ipython3",
   "version": "3.11.6"
  }
 },
 "nbformat": 4,
 "nbformat_minor": 5
}
